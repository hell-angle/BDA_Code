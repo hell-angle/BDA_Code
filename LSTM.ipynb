{
 "cells": [
  {
   "cell_type": "code",
   "execution_count": 1,
   "metadata": {
    "id": "dbZL5LqPq3R_"
   },
   "outputs": [],
   "source": [
    "# univariate lstm example\n",
    "import numpy as np\n",
    "from tensorflow.keras.models import Sequential\n",
    "from tensorflow.keras.layers import LSTM\n",
    "from tensorflow.keras.layers import Dense\n",
    "from tensorflow.keras.layers import Flatten\n",
    "\n",
    "#library declaration\n",
    "import pandas as pd #read data\n",
    "import matplotlib.pyplot as plt #draw chart\n",
    "import numpy as np #Data processing\n",
    "from sklearn.preprocessing import MinMaxScaler\n",
    "from keras.callbacks import ModelCheckpoint\n",
    "from tensorflow.keras.models import load_model\n",
    "\n",
    "# the layers to build models\n",
    "from keras.models import Sequential\n",
    "from keras.layers import LSTM\n",
    "from keras.layers import Dropout\n",
    "from keras.layers import Dense\n",
    "\n",
    "# checking model\n",
    "from sklearn.metrics import r2_score\n",
    "from sklearn.metrics import mean_absolute_error\n",
    "from sklearn.metrics import mean_absolute_percentage_error\n"
   ]
  },
  {
   "cell_type": "code",
   "execution_count": 2,
   "metadata": {
    "id": "P5UEb3TmrA-7"
   },
   "outputs": [],
   "source": [
    "def prepare_data(timeseries_data, n_features):\n",
    "\tX, y =[],[]\n",
    "\tfor i in range(len(timeseries_data)):\n",
    "\t\t# find the end of this pattern\n",
    "\t\tend_ix = i + n_features\n",
    "\t\t# check if we are beyond the sequence\n",
    "\t\tif end_ix > len(timeseries_data)-1:\n",
    "\t\t\tbreak\n",
    "\t\t# gather input and output parts of the pattern\n",
    "\t\tseq_x, seq_y = timeseries_data[i:end_ix], timeseries_data[end_ix]\n",
    "\t\tX.append(seq_x)\n",
    "\t\ty.append(seq_y)\n",
    "\treturn np.array(X), np.array(y)"
   ]
  },
  {
   "cell_type": "code",
   "execution_count": 3,
   "metadata": {
    "colab": {
     "base_uri": "https://localhost:8080/",
     "height": 224
    },
    "id": "T0tAJF3grFcX",
    "outputId": "9d5e5f48-66a1-40df-cd27-7f07fef2afd8"
   },
   "outputs": [
    {
     "name": "stdout",
     "output_type": "stream",
     "text": [
      "(107, 2)\n"
     ]
    },
    {
     "data": {
      "text/html": [
       "<div>\n",
       "<style scoped>\n",
       "    .dataframe tbody tr th:only-of-type {\n",
       "        vertical-align: middle;\n",
       "    }\n",
       "\n",
       "    .dataframe tbody tr th {\n",
       "        vertical-align: top;\n",
       "    }\n",
       "\n",
       "    .dataframe thead th {\n",
       "        text-align: right;\n",
       "    }\n",
       "</style>\n",
       "<table border=\"1\" class=\"dataframe\">\n",
       "  <thead>\n",
       "    <tr style=\"text-align: right;\">\n",
       "      <th></th>\n",
       "      <th>year</th>\n",
       "      <th>E95</th>\n",
       "    </tr>\n",
       "  </thead>\n",
       "  <tbody>\n",
       "    <tr>\n",
       "      <th>102</th>\n",
       "      <td>11/11/2022</td>\n",
       "      <td>23860</td>\n",
       "    </tr>\n",
       "    <tr>\n",
       "      <th>103</th>\n",
       "      <td>11/21/2022</td>\n",
       "      <td>23780</td>\n",
       "    </tr>\n",
       "    <tr>\n",
       "      <th>104</th>\n",
       "      <td>12/1/2022</td>\n",
       "      <td>22700</td>\n",
       "    </tr>\n",
       "    <tr>\n",
       "      <th>105</th>\n",
       "      <td>12/12/2022</td>\n",
       "      <td>21200</td>\n",
       "    </tr>\n",
       "    <tr>\n",
       "      <th>106</th>\n",
       "      <td>12/21/2022</td>\n",
       "      <td>20700</td>\n",
       "    </tr>\n",
       "  </tbody>\n",
       "</table>\n",
       "</div>"
      ],
      "text/plain": [
       "           year    E95\n",
       "102  11/11/2022  23860\n",
       "103  11/21/2022  23780\n",
       "104   12/1/2022  22700\n",
       "105  12/12/2022  21200\n",
       "106  12/21/2022  20700"
      ]
     },
     "execution_count": 3,
     "metadata": {},
     "output_type": "execute_result"
    }
   ],
   "source": [
    "df = pd.read_csv(\"E95_price_1.csv\",\n",
    "\n",
    "parse_dates=True)\n",
    "\n",
    "print(df.shape)\n",
    "df.tail()"
   ]
  },
  {
   "cell_type": "code",
   "execution_count": 4,
   "metadata": {
    "colab": {
     "base_uri": "https://localhost:8080/",
     "height": 424
    },
    "id": "T3Gr-KJftt1Y",
    "outputId": "0ec470e7-74f6-47d9-c9a4-57db280408d6"
   },
   "outputs": [
    {
     "data": {
      "text/html": [
       "<div>\n",
       "<style scoped>\n",
       "    .dataframe tbody tr th:only-of-type {\n",
       "        vertical-align: middle;\n",
       "    }\n",
       "\n",
       "    .dataframe tbody tr th {\n",
       "        vertical-align: top;\n",
       "    }\n",
       "\n",
       "    .dataframe thead th {\n",
       "        text-align: right;\n",
       "    }\n",
       "</style>\n",
       "<table border=\"1\" class=\"dataframe\">\n",
       "  <thead>\n",
       "    <tr style=\"text-align: right;\">\n",
       "      <th></th>\n",
       "      <th>year</th>\n",
       "      <th>E95</th>\n",
       "    </tr>\n",
       "  </thead>\n",
       "  <tbody>\n",
       "    <tr>\n",
       "      <th>0</th>\n",
       "      <td>2019-01-01</td>\n",
       "      <td>17800</td>\n",
       "    </tr>\n",
       "    <tr>\n",
       "      <th>1</th>\n",
       "      <td>2019-01-16</td>\n",
       "      <td>17600</td>\n",
       "    </tr>\n",
       "    <tr>\n",
       "      <th>2</th>\n",
       "      <td>2019-01-31</td>\n",
       "      <td>17600</td>\n",
       "    </tr>\n",
       "    <tr>\n",
       "      <th>3</th>\n",
       "      <td>2019-02-15</td>\n",
       "      <td>17600</td>\n",
       "    </tr>\n",
       "    <tr>\n",
       "      <th>4</th>\n",
       "      <td>2019-03-02</td>\n",
       "      <td>18540</td>\n",
       "    </tr>\n",
       "    <tr>\n",
       "      <th>...</th>\n",
       "      <td>...</td>\n",
       "      <td>...</td>\n",
       "    </tr>\n",
       "    <tr>\n",
       "      <th>102</th>\n",
       "      <td>2022-11-11</td>\n",
       "      <td>23860</td>\n",
       "    </tr>\n",
       "    <tr>\n",
       "      <th>103</th>\n",
       "      <td>2022-11-21</td>\n",
       "      <td>23780</td>\n",
       "    </tr>\n",
       "    <tr>\n",
       "      <th>104</th>\n",
       "      <td>2022-12-01</td>\n",
       "      <td>22700</td>\n",
       "    </tr>\n",
       "    <tr>\n",
       "      <th>105</th>\n",
       "      <td>2022-12-12</td>\n",
       "      <td>21200</td>\n",
       "    </tr>\n",
       "    <tr>\n",
       "      <th>106</th>\n",
       "      <td>2022-12-21</td>\n",
       "      <td>20700</td>\n",
       "    </tr>\n",
       "  </tbody>\n",
       "</table>\n",
       "<p>107 rows × 2 columns</p>\n",
       "</div>"
      ],
      "text/plain": [
       "          year    E95\n",
       "0   2019-01-01  17800\n",
       "1   2019-01-16  17600\n",
       "2   2019-01-31  17600\n",
       "3   2019-02-15  17600\n",
       "4   2019-03-02  18540\n",
       "..         ...    ...\n",
       "102 2022-11-11  23860\n",
       "103 2022-11-21  23780\n",
       "104 2022-12-01  22700\n",
       "105 2022-12-12  21200\n",
       "106 2022-12-21  20700\n",
       "\n",
       "[107 rows x 2 columns]"
      ]
     },
     "execution_count": 4,
     "metadata": {},
     "output_type": "execute_result"
    }
   ],
   "source": [
    "df[\"year\"]=pd.to_datetime(df.year,format= \"%m/%d/%Y\")\n",
    "df"
   ]
  },
  {
   "cell_type": "code",
   "execution_count": 5,
   "metadata": {
    "id": "IPCsZJc4tV2F"
   },
   "outputs": [],
   "source": [
    "dfl=pd.DataFrame(df,columns=['year','E95'])\n",
    "dfl.index=dfl.year\n",
    "dfl.drop(\"year\",axis=1, inplace = True)"
   ]
  },
  {
   "cell_type": "code",
   "execution_count": 6,
   "metadata": {
    "colab": {
     "base_uri": "https://localhost:8080/",
     "height": 455
    },
    "id": "A3vZBECStkt3",
    "outputId": "32701b97-ac95-456d-dc92-8eb2c6ac09d1"
   },
   "outputs": [
    {
     "data": {
      "text/html": [
       "<div>\n",
       "<style scoped>\n",
       "    .dataframe tbody tr th:only-of-type {\n",
       "        vertical-align: middle;\n",
       "    }\n",
       "\n",
       "    .dataframe tbody tr th {\n",
       "        vertical-align: top;\n",
       "    }\n",
       "\n",
       "    .dataframe thead th {\n",
       "        text-align: right;\n",
       "    }\n",
       "</style>\n",
       "<table border=\"1\" class=\"dataframe\">\n",
       "  <thead>\n",
       "    <tr style=\"text-align: right;\">\n",
       "      <th></th>\n",
       "      <th>E95</th>\n",
       "    </tr>\n",
       "    <tr>\n",
       "      <th>year</th>\n",
       "      <th></th>\n",
       "    </tr>\n",
       "  </thead>\n",
       "  <tbody>\n",
       "    <tr>\n",
       "      <th>2019-01-01</th>\n",
       "      <td>17800</td>\n",
       "    </tr>\n",
       "    <tr>\n",
       "      <th>2019-01-16</th>\n",
       "      <td>17600</td>\n",
       "    </tr>\n",
       "    <tr>\n",
       "      <th>2019-01-31</th>\n",
       "      <td>17600</td>\n",
       "    </tr>\n",
       "    <tr>\n",
       "      <th>2019-02-15</th>\n",
       "      <td>17600</td>\n",
       "    </tr>\n",
       "    <tr>\n",
       "      <th>2019-03-02</th>\n",
       "      <td>18540</td>\n",
       "    </tr>\n",
       "    <tr>\n",
       "      <th>...</th>\n",
       "      <td>...</td>\n",
       "    </tr>\n",
       "    <tr>\n",
       "      <th>2022-11-11</th>\n",
       "      <td>23860</td>\n",
       "    </tr>\n",
       "    <tr>\n",
       "      <th>2022-11-21</th>\n",
       "      <td>23780</td>\n",
       "    </tr>\n",
       "    <tr>\n",
       "      <th>2022-12-01</th>\n",
       "      <td>22700</td>\n",
       "    </tr>\n",
       "    <tr>\n",
       "      <th>2022-12-12</th>\n",
       "      <td>21200</td>\n",
       "    </tr>\n",
       "    <tr>\n",
       "      <th>2022-12-21</th>\n",
       "      <td>20700</td>\n",
       "    </tr>\n",
       "  </tbody>\n",
       "</table>\n",
       "<p>107 rows × 1 columns</p>\n",
       "</div>"
      ],
      "text/plain": [
       "              E95\n",
       "year             \n",
       "2019-01-01  17800\n",
       "2019-01-16  17600\n",
       "2019-01-31  17600\n",
       "2019-02-15  17600\n",
       "2019-03-02  18540\n",
       "...           ...\n",
       "2022-11-11  23860\n",
       "2022-11-21  23780\n",
       "2022-12-01  22700\n",
       "2022-12-12  21200\n",
       "2022-12-21  20700\n",
       "\n",
       "[107 rows x 1 columns]"
      ]
     },
     "execution_count": 6,
     "metadata": {},
     "output_type": "execute_result"
    }
   ],
   "source": [
    "dfl"
   ]
  },
  {
   "cell_type": "code",
   "execution_count": 7,
   "metadata": {
    "colab": {
     "base_uri": "https://localhost:8080/",
     "height": 326
    },
    "id": "nP4-Hkowt-ML",
    "outputId": "10897ba0-ca2d-4630-8b57-8fe7b4274c8b"
   },
   "outputs": [
    {
     "data": {
      "image/png": "[encoded data removed]",
      "text/plain": [
       "<Figure size 1224x360 with 1 Axes>"
      ]
     },
     "metadata": {
      "needs_background": "light"
     },
     "output_type": "display_data"
    }
   ],
   "source": [
    "import matplotlib.pyplot as plt\n",
    "\n",
    "plt.figure(figsize=(17,5))\n",
    "plt.plot(dfl['E95'],label='actual price')\n",
    "plt.title('E95 price chart')\n",
    "plt.xlabel('Time Frame')\n",
    "plt.ylabel('E95 Price (VND)')\n",
    "plt.legend()\n",
    "plt.show()"
   ]
  },
  {
   "cell_type": "code",
   "execution_count": 8,
   "metadata": {
    "id": "0TSoACQouC9Q"
   },
   "outputs": [],
   "source": [
    "data=dfl.values\n",
    "train_data=data[:95]\n",
    "test_data=data[95:]"
   ]
  },
  {
   "cell_type": "code",
   "execution_count": 9,
   "metadata": {
    "id": "z7L1UXqmuFPx"
   },
   "outputs": [],
   "source": [
    "sc=MinMaxScaler(feature_range=(0,1))\n",
    "sc_train=sc.fit_transform(data)"
   ]
  },
  {
   "cell_type": "code",
   "execution_count": 10,
   "metadata": {
    "id": "EbiK78TquT1l"
   },
   "outputs": [],
   "source": [
    "x_train,y_train=[],[]\n",
    "for i in range(5,len(train_data)):\n",
    "  x_train.append(sc_train[i-5:i,0])\n",
    "  y_train.append(sc_train[i,0])"
   ]
  },
  {
   "cell_type": "code",
   "execution_count": 11,
   "metadata": {
    "id": "dzkU4lJruYvX"
   },
   "outputs": [],
   "source": [
    "x_train=np.array(x_train)\n",
    "y_train=np.array(y_train)\n",
    "\n",
    "x_train=np.reshape(x_train,(x_train.shape[0],x_train.shape[1],1))\n",
    "y_train=np.reshape(y_train,(y_train.shape[0],1))"
   ]
  },
  {
   "cell_type": "code",
   "execution_count": 12,
   "metadata": {
    "id": "ocCysKmfueFt"
   },
   "outputs": [],
   "source": [
    "model=Sequential()\n",
    "model.add(LSTM(units=128,input_shape=(x_train.shape[1],1),return_sequences=True))\n",
    "model.add(LSTM(units=64))\n",
    "model.add(Dropout(0.5))\n",
    "model.add(Dense(1))\n",
    "model.compile(loss='mean_absolute_error',optimizer='adam')"
   ]
  },
  {
   "cell_type": "code",
   "execution_count": 13,
   "metadata": {
    "colab": {
     "base_uri": "https://localhost:8080/"
    },
    "id": "FrBVtGWruf7-",
    "outputId": "851fc2cc-f4b5-4788-d1f8-cfe143c1cca0"
   },
   "outputs": [
    {
     "name": "stdout",
     "output_type": "stream",
     "text": [
      "Epoch 1/100\n",
      "\n",
      "Epoch 1: loss improved from inf to 0.43920, saving model to save_model.hdf5\n",
      "2/2 - 6s - loss: 0.4392 - 6s/epoch - 3s/step\n",
      "Epoch 2/100\n",
      "\n",
      "Epoch 2: loss improved from 0.43920 to 0.37294, saving model to save_model.hdf5\n",
      "2/2 - 0s - loss: 0.3729 - 63ms/epoch - 31ms/step\n",
      "Epoch 3/100\n",
      "\n",
      "Epoch 3: loss improved from 0.37294 to 0.29585, saving model to save_model.hdf5\n",
      "2/2 - 0s - loss: 0.2959 - 64ms/epoch - 32ms/step\n",
      "Epoch 4/100\n",
      "\n",
      "Epoch 4: loss improved from 0.29585 to 0.22468, saving model to save_model.hdf5\n",
      "2/2 - 0s - loss: 0.2247 - 56ms/epoch - 28ms/step\n",
      "Epoch 5/100\n",
      "\n",
      "Epoch 5: loss improved from 0.22468 to 0.13506, saving model to save_model.hdf5\n",
      "2/2 - 0s - loss: 0.1351 - 59ms/epoch - 30ms/step\n",
      "Epoch 6/100\n",
      "\n",
      "Epoch 6: loss improved from 0.13506 to 0.12297, saving model to save_model.hdf5\n",
      "2/2 - 0s - loss: 0.1230 - 53ms/epoch - 27ms/step\n",
      "Epoch 7/100\n",
      "\n",
      "Epoch 7: loss did not improve from 0.12297\n",
      "2/2 - 0s - loss: 0.1753 - 23ms/epoch - 11ms/step\n",
      "Epoch 8/100\n",
      "\n",
      "Epoch 8: loss did not improve from 0.12297\n",
      "2/2 - 0s - loss: 0.1592 - 23ms/epoch - 11ms/step\n",
      "Epoch 9/100\n",
      "\n",
      "Epoch 9: loss did not improve from 0.12297\n",
      "2/2 - 0s - loss: 0.1354 - 22ms/epoch - 11ms/step\n",
      "Epoch 10/100\n",
      "\n",
      "Epoch 10: loss improved from 0.12297 to 0.10750, saving model to save_model.hdf5\n",
      "2/2 - 0s - loss: 0.1075 - 57ms/epoch - 29ms/step\n",
      "Epoch 11/100\n",
      "\n",
      "Epoch 11: loss did not improve from 0.10750\n",
      "2/2 - 0s - loss: 0.1109 - 24ms/epoch - 12ms/step\n",
      "Epoch 12/100\n",
      "\n",
      "Epoch 12: loss did not improve from 0.10750\n",
      "2/2 - 0s - loss: 0.1380 - 25ms/epoch - 12ms/step\n",
      "Epoch 13/100\n",
      "\n",
      "Epoch 13: loss did not improve from 0.10750\n",
      "2/2 - 0s - loss: 0.1163 - 25ms/epoch - 12ms/step\n",
      "Epoch 14/100\n",
      "\n",
      "Epoch 14: loss did not improve from 0.10750\n",
      "2/2 - 0s - loss: 0.1180 - 26ms/epoch - 13ms/step\n",
      "Epoch 15/100\n",
      "\n",
      "Epoch 15: loss improved from 0.10750 to 0.10365, saving model to save_model.hdf5\n",
      "2/2 - 0s - loss: 0.1036 - 56ms/epoch - 28ms/step\n",
      "Epoch 16/100\n",
      "\n",
      "Epoch 16: loss improved from 0.10365 to 0.09763, saving model to save_model.hdf5\n",
      "2/2 - 0s - loss: 0.0976 - 56ms/epoch - 28ms/step\n",
      "Epoch 17/100\n",
      "\n",
      "Epoch 17: loss did not improve from 0.09763\n",
      "2/2 - 0s - loss: 0.1132 - 26ms/epoch - 13ms/step\n",
      "Epoch 18/100\n",
      "\n",
      "Epoch 18: loss did not improve from 0.09763\n",
      "2/2 - 0s - loss: 0.1082 - 24ms/epoch - 12ms/step\n",
      "Epoch 19/100\n",
      "\n",
      "Epoch 19: loss did not improve from 0.09763\n",
      "2/2 - 0s - loss: 0.1023 - 24ms/epoch - 12ms/step\n",
      "Epoch 20/100\n",
      "\n",
      "Epoch 20: loss improved from 0.09763 to 0.08266, saving model to save_model.hdf5\n",
      "2/2 - 0s - loss: 0.0827 - 59ms/epoch - 30ms/step\n",
      "Epoch 21/100\n",
      "\n",
      "Epoch 21: loss did not improve from 0.08266\n",
      "2/2 - 0s - loss: 0.1017 - 24ms/epoch - 12ms/step\n",
      "Epoch 22/100\n",
      "\n",
      "Epoch 22: loss did not improve from 0.08266\n",
      "2/2 - 0s - loss: 0.1040 - 25ms/epoch - 12ms/step\n",
      "Epoch 23/100\n",
      "\n",
      "Epoch 23: loss did not improve from 0.08266\n",
      "2/2 - 0s - loss: 0.0906 - 23ms/epoch - 11ms/step\n",
      "Epoch 24/100\n",
      "\n",
      "Epoch 24: loss did not improve from 0.08266\n",
      "2/2 - 0s - loss: 0.0925 - 24ms/epoch - 12ms/step\n",
      "Epoch 25/100\n",
      "\n",
      "Epoch 25: loss improved from 0.08266 to 0.07743, saving model to save_model.hdf5\n",
      "2/2 - 0s - loss: 0.0774 - 57ms/epoch - 28ms/step\n",
      "Epoch 26/100\n",
      "\n",
      "Epoch 26: loss did not improve from 0.07743\n",
      "2/2 - 0s - loss: 0.0979 - 33ms/epoch - 16ms/step\n",
      "Epoch 27/100\n",
      "\n",
      "Epoch 27: loss did not improve from 0.07743\n",
      "2/2 - 0s - loss: 0.0926 - 31ms/epoch - 15ms/step\n",
      "Epoch 28/100\n",
      "\n",
      "Epoch 28: loss did not improve from 0.07743\n",
      "2/2 - 0s - loss: 0.0909 - 24ms/epoch - 12ms/step\n",
      "Epoch 29/100\n",
      "\n",
      "Epoch 29: loss did not improve from 0.07743\n",
      "2/2 - 0s - loss: 0.1022 - 27ms/epoch - 13ms/step\n",
      "Epoch 30/100\n",
      "\n",
      "Epoch 30: loss did not improve from 0.07743\n",
      "2/2 - 0s - loss: 0.0941 - 27ms/epoch - 13ms/step\n",
      "Epoch 31/100\n",
      "\n",
      "Epoch 31: loss did not improve from 0.07743\n",
      "2/2 - 0s - loss: 0.1051 - 24ms/epoch - 12ms/step\n",
      "Epoch 32/100\n",
      "\n",
      "Epoch 32: loss did not improve from 0.07743\n",
      "2/2 - 0s - loss: 0.0920 - 23ms/epoch - 11ms/step\n",
      "Epoch 33/100\n",
      "\n",
      "Epoch 33: loss did not improve from 0.07743\n",
      "2/2 - 0s - loss: 0.0866 - 24ms/epoch - 12ms/step\n",
      "Epoch 34/100\n",
      "\n",
      "Epoch 34: loss did not improve from 0.07743\n",
      "2/2 - 0s - loss: 0.0930 - 23ms/epoch - 11ms/step\n",
      "Epoch 35/100\n",
      "\n",
      "Epoch 35: loss did not improve from 0.07743\n",
      "2/2 - 0s - loss: 0.0922 - 23ms/epoch - 11ms/step\n",
      "Epoch 36/100\n",
      "\n",
      "Epoch 36: loss did not improve from 0.07743\n",
      "2/2 - 0s - loss: 0.0916 - 24ms/epoch - 12ms/step\n",
      "Epoch 37/100\n",
      "\n",
      "Epoch 37: loss did not improve from 0.07743\n",
      "2/2 - 0s - loss: 0.0979 - 22ms/epoch - 11ms/step\n",
      "Epoch 38/100\n",
      "\n",
      "Epoch 38: loss did not improve from 0.07743\n",
      "2/2 - 0s - loss: 0.0964 - 23ms/epoch - 11ms/step\n",
      "Epoch 39/100\n",
      "\n",
      "Epoch 39: loss did not improve from 0.07743\n",
      "2/2 - 0s - loss: 0.0883 - 22ms/epoch - 11ms/step\n",
      "Epoch 40/100\n",
      "\n",
      "Epoch 40: loss did not improve from 0.07743\n",
      "2/2 - 0s - loss: 0.0840 - 23ms/epoch - 11ms/step\n",
      "Epoch 41/100\n",
      "\n",
      "Epoch 41: loss improved from 0.07743 to 0.07698, saving model to save_model.hdf5\n",
      "2/2 - 0s - loss: 0.0770 - 49ms/epoch - 24ms/step\n",
      "Epoch 42/100\n",
      "\n",
      "Epoch 42: loss did not improve from 0.07698\n",
      "2/2 - 0s - loss: 0.0912 - 22ms/epoch - 11ms/step\n",
      "Epoch 43/100\n",
      "\n",
      "Epoch 43: loss did not improve from 0.07698\n",
      "2/2 - 0s - loss: 0.0847 - 23ms/epoch - 11ms/step\n",
      "Epoch 44/100\n",
      "\n",
      "Epoch 44: loss did not improve from 0.07698\n",
      "2/2 - 0s - loss: 0.0872 - 21ms/epoch - 10ms/step\n",
      "Epoch 45/100\n",
      "\n",
      "Epoch 45: loss did not improve from 0.07698\n",
      "2/2 - 0s - loss: 0.0772 - 21ms/epoch - 10ms/step\n",
      "Epoch 46/100\n",
      "\n",
      "Epoch 46: loss did not improve from 0.07698\n",
      "2/2 - 0s - loss: 0.0910 - 21ms/epoch - 10ms/step\n",
      "Epoch 47/100\n",
      "\n",
      "Epoch 47: loss did not improve from 0.07698\n",
      "2/2 - 0s - loss: 0.0835 - 26ms/epoch - 13ms/step\n",
      "Epoch 48/100\n",
      "\n",
      "Epoch 48: loss did not improve from 0.07698\n",
      "2/2 - 0s - loss: 0.0934 - 25ms/epoch - 12ms/step\n",
      "Epoch 49/100\n",
      "\n",
      "Epoch 49: loss did not improve from 0.07698\n",
      "2/2 - 0s - loss: 0.0959 - 21ms/epoch - 10ms/step\n",
      "Epoch 50/100\n",
      "\n",
      "Epoch 50: loss did not improve from 0.07698\n",
      "2/2 - 0s - loss: 0.0860 - 21ms/epoch - 10ms/step\n",
      "Epoch 51/100\n",
      "\n",
      "Epoch 51: loss did not improve from 0.07698\n",
      "2/2 - 0s - loss: 0.0871 - 22ms/epoch - 11ms/step\n",
      "Epoch 52/100\n",
      "\n",
      "Epoch 52: loss did not improve from 0.07698\n",
      "2/2 - 0s - loss: 0.0881 - 21ms/epoch - 10ms/step\n",
      "Epoch 53/100\n",
      "\n",
      "Epoch 53: loss did not improve from 0.07698\n",
      "2/2 - 0s - loss: 0.0884 - 23ms/epoch - 11ms/step\n",
      "Epoch 54/100\n",
      "\n",
      "Epoch 54: loss did not improve from 0.07698\n",
      "2/2 - 0s - loss: 0.0885 - 22ms/epoch - 11ms/step\n",
      "Epoch 55/100\n",
      "\n",
      "Epoch 55: loss did not improve from 0.07698\n",
      "2/2 - 0s - loss: 0.0782 - 23ms/epoch - 11ms/step\n",
      "Epoch 56/100\n",
      "\n",
      "Epoch 56: loss did not improve from 0.07698\n",
      "2/2 - 0s - loss: 0.0955 - 21ms/epoch - 10ms/step\n",
      "Epoch 57/100\n",
      "\n",
      "Epoch 57: loss did not improve from 0.07698\n",
      "2/2 - 0s - loss: 0.0794 - 21ms/epoch - 10ms/step\n",
      "Epoch 58/100\n",
      "\n",
      "Epoch 58: loss did not improve from 0.07698\n",
      "2/2 - 0s - loss: 0.0875 - 23ms/epoch - 11ms/step\n",
      "Epoch 59/100\n",
      "\n",
      "Epoch 59: loss did not improve from 0.07698\n",
      "2/2 - 0s - loss: 0.0883 - 23ms/epoch - 11ms/step\n",
      "Epoch 60/100\n",
      "\n",
      "Epoch 60: loss did not improve from 0.07698\n",
      "2/2 - 0s - loss: 0.0894 - 23ms/epoch - 11ms/step\n",
      "Epoch 61/100\n",
      "\n",
      "Epoch 61: loss did not improve from 0.07698\n",
      "2/2 - 0s - loss: 0.0814 - 22ms/epoch - 11ms/step\n",
      "Epoch 62/100\n",
      "\n",
      "Epoch 62: loss did not improve from 0.07698\n",
      "2/2 - 0s - loss: 0.0785 - 22ms/epoch - 11ms/step\n",
      "Epoch 63/100\n",
      "\n",
      "Epoch 63: loss did not improve from 0.07698\n",
      "2/2 - 0s - loss: 0.0843 - 23ms/epoch - 11ms/step\n",
      "Epoch 64/100\n",
      "\n",
      "Epoch 64: loss did not improve from 0.07698\n",
      "2/2 - 0s - loss: 0.0811 - 22ms/epoch - 11ms/step\n",
      "Epoch 65/100\n",
      "\n",
      "Epoch 65: loss did not improve from 0.07698\n",
      "2/2 - 0s - loss: 0.0932 - 22ms/epoch - 11ms/step\n",
      "Epoch 66/100\n",
      "\n",
      "Epoch 66: loss improved from 0.07698 to 0.07625, saving model to save_model.hdf5\n",
      "2/2 - 0s - loss: 0.0763 - 56ms/epoch - 28ms/step\n",
      "Epoch 67/100\n",
      "\n",
      "Epoch 67: loss did not improve from 0.07625\n",
      "2/2 - 0s - loss: 0.0871 - 25ms/epoch - 12ms/step\n",
      "Epoch 68/100\n",
      "\n",
      "Epoch 68: loss did not improve from 0.07625\n",
      "2/2 - 0s - loss: 0.0882 - 28ms/epoch - 14ms/step\n",
      "Epoch 69/100\n",
      "\n",
      "Epoch 69: loss did not improve from 0.07625\n",
      "2/2 - 0s - loss: 0.0957 - 27ms/epoch - 13ms/step\n",
      "Epoch 70/100\n",
      "\n",
      "Epoch 70: loss did not improve from 0.07625\n",
      "2/2 - 0s - loss: 0.0854 - 23ms/epoch - 11ms/step\n",
      "Epoch 71/100\n",
      "\n",
      "Epoch 71: loss did not improve from 0.07625\n",
      "2/2 - 0s - loss: 0.0797 - 24ms/epoch - 12ms/step\n",
      "Epoch 72/100\n",
      "\n",
      "Epoch 72: loss did not improve from 0.07625\n",
      "2/2 - 0s - loss: 0.0764 - 27ms/epoch - 13ms/step\n",
      "Epoch 73/100\n",
      "\n",
      "Epoch 73: loss did not improve from 0.07625\n"
     ]
    },
    {
     "name": "stdout",
     "output_type": "stream",
     "text": [
      "2/2 - 0s - loss: 0.0907 - 24ms/epoch - 12ms/step\n",
      "Epoch 74/100\n",
      "\n",
      "Epoch 74: loss did not improve from 0.07625\n",
      "2/2 - 0s - loss: 0.0795 - 25ms/epoch - 12ms/step\n",
      "Epoch 75/100\n",
      "\n",
      "Epoch 75: loss did not improve from 0.07625\n",
      "2/2 - 0s - loss: 0.0840 - 24ms/epoch - 12ms/step\n",
      "Epoch 76/100\n",
      "\n",
      "Epoch 76: loss improved from 0.07625 to 0.07428, saving model to save_model.hdf5\n",
      "2/2 - 0s - loss: 0.0743 - 58ms/epoch - 29ms/step\n",
      "Epoch 77/100\n",
      "\n",
      "Epoch 77: loss did not improve from 0.07428\n",
      "2/2 - 0s - loss: 0.0840 - 20ms/epoch - 10ms/step\n",
      "Epoch 78/100\n",
      "\n",
      "Epoch 78: loss did not improve from 0.07428\n",
      "2/2 - 0s - loss: 0.0770 - 21ms/epoch - 10ms/step\n",
      "Epoch 79/100\n",
      "\n",
      "Epoch 79: loss did not improve from 0.07428\n",
      "2/2 - 0s - loss: 0.0852 - 25ms/epoch - 12ms/step\n",
      "Epoch 80/100\n",
      "\n",
      "Epoch 80: loss did not improve from 0.07428\n",
      "2/2 - 0s - loss: 0.0812 - 22ms/epoch - 11ms/step\n",
      "Epoch 81/100\n",
      "\n",
      "Epoch 81: loss did not improve from 0.07428\n",
      "2/2 - 0s - loss: 0.0823 - 26ms/epoch - 13ms/step\n",
      "Epoch 82/100\n",
      "\n",
      "Epoch 82: loss did not improve from 0.07428\n",
      "2/2 - 0s - loss: 0.0802 - 27ms/epoch - 13ms/step\n",
      "Epoch 83/100\n",
      "\n",
      "Epoch 83: loss did not improve from 0.07428\n",
      "2/2 - 0s - loss: 0.0786 - 25ms/epoch - 12ms/step\n",
      "Epoch 84/100\n",
      "\n",
      "Epoch 84: loss did not improve from 0.07428\n",
      "2/2 - 0s - loss: 0.0875 - 28ms/epoch - 14ms/step\n",
      "Epoch 85/100\n",
      "\n",
      "Epoch 85: loss did not improve from 0.07428\n",
      "2/2 - 0s - loss: 0.0866 - 27ms/epoch - 13ms/step\n",
      "Epoch 86/100\n",
      "\n",
      "Epoch 86: loss did not improve from 0.07428\n",
      "2/2 - 0s - loss: 0.0824 - 24ms/epoch - 12ms/step\n",
      "Epoch 87/100\n",
      "\n",
      "Epoch 87: loss did not improve from 0.07428\n",
      "2/2 - 0s - loss: 0.0804 - 21ms/epoch - 10ms/step\n",
      "Epoch 88/100\n",
      "\n",
      "Epoch 88: loss did not improve from 0.07428\n",
      "2/2 - 0s - loss: 0.0885 - 21ms/epoch - 10ms/step\n",
      "Epoch 89/100\n",
      "\n",
      "Epoch 89: loss did not improve from 0.07428\n",
      "2/2 - 0s - loss: 0.0790 - 23ms/epoch - 11ms/step\n",
      "Epoch 90/100\n",
      "\n",
      "Epoch 90: loss did not improve from 0.07428\n",
      "2/2 - 0s - loss: 0.0760 - 23ms/epoch - 11ms/step\n",
      "Epoch 91/100\n",
      "\n",
      "Epoch 91: loss improved from 0.07428 to 0.07186, saving model to save_model.hdf5\n",
      "2/2 - 0s - loss: 0.0719 - 56ms/epoch - 28ms/step\n",
      "Epoch 92/100\n",
      "\n",
      "Epoch 92: loss did not improve from 0.07186\n",
      "2/2 - 0s - loss: 0.0815 - 25ms/epoch - 12ms/step\n",
      "Epoch 93/100\n",
      "\n",
      "Epoch 93: loss did not improve from 0.07186\n",
      "2/2 - 0s - loss: 0.0778 - 27ms/epoch - 13ms/step\n",
      "Epoch 94/100\n",
      "\n",
      "Epoch 94: loss did not improve from 0.07186\n",
      "2/2 - 0s - loss: 0.0858 - 27ms/epoch - 13ms/step\n",
      "Epoch 95/100\n",
      "\n",
      "Epoch 95: loss did not improve from 0.07186\n",
      "2/2 - 0s - loss: 0.0790 - 26ms/epoch - 13ms/step\n",
      "Epoch 96/100\n",
      "\n",
      "Epoch 96: loss did not improve from 0.07186\n",
      "2/2 - 0s - loss: 0.0812 - 26ms/epoch - 13ms/step\n",
      "Epoch 97/100\n",
      "\n",
      "Epoch 97: loss did not improve from 0.07186\n",
      "2/2 - 0s - loss: 0.0781 - 25ms/epoch - 12ms/step\n",
      "Epoch 98/100\n",
      "\n",
      "Epoch 98: loss did not improve from 0.07186\n",
      "2/2 - 0s - loss: 0.0823 - 22ms/epoch - 11ms/step\n",
      "Epoch 99/100\n",
      "\n",
      "Epoch 99: loss did not improve from 0.07186\n",
      "2/2 - 0s - loss: 0.0829 - 25ms/epoch - 12ms/step\n",
      "Epoch 100/100\n",
      "\n",
      "Epoch 100: loss did not improve from 0.07186\n",
      "2/2 - 0s - loss: 0.0857 - 22ms/epoch - 11ms/step\n"
     ]
    },
    {
     "data": {
      "text/plain": [
       "<keras.callbacks.History at 0x18e66922f10>"
      ]
     },
     "execution_count": 13,
     "metadata": {},
     "output_type": "execute_result"
    }
   ],
   "source": [
    "save_model = \"save_model.hdf5\"\n",
    "best_model=ModelCheckpoint(save_model,monitor='loss',verbose=2,save_best_only=True,mode='auto')\n",
    "model.fit(x_train,y_train,epochs=100, batch_size=50,verbose=2,callbacks=[best_model])"
   ]
  },
  {
   "cell_type": "code",
   "execution_count": 14,
   "metadata": {
    "colab": {
     "base_uri": "https://localhost:8080/"
    },
    "id": "q1kMszNAuliC",
    "outputId": "de11d7b4-48fa-419a-d0c2-4336254b3d6d"
   },
   "outputs": [
    {
     "name": "stdout",
     "output_type": "stream",
     "text": [
      "3/3 [==============================] - 1s 5ms/step\n"
     ]
    }
   ],
   "source": [
    "y_train=sc.inverse_transform(y_train)\n",
    "final_model=load_model('save_model.hdf5')\n",
    "y_train_predict = final_model.predict(x_train)\n",
    "y_train_predict = sc.inverse_transform(y_train_predict)"
   ]
  },
  {
   "cell_type": "code",
   "execution_count": 15,
   "metadata": {
    "colab": {
     "base_uri": "https://localhost:8080/"
    },
    "id": "XPfhdX5dupJn",
    "outputId": "bd4fd6af-73d8-4cb3-8133-70a5d6ee0e37"
   },
   "outputs": [
    {
     "name": "stdout",
     "output_type": "stream",
     "text": [
      "1/1 [==============================] - 0s 29ms/step\n"
     ]
    }
   ],
   "source": [
    "test=dfl[len(train_data)-5:].values\n",
    "test=test.reshape(-1,1)\n",
    "sc_test=sc.transform(test)\n",
    "\n",
    "x_test=[]\n",
    "for i in range(5,test.shape[0]):\n",
    "  x_test.append(sc_test[i-5:i,0])\n",
    "x_test=np.array(x_test)\n",
    "x_test=np.reshape(x_test,(x_test.shape[0],x_test.shape[1],1))\n",
    "\n",
    "\n",
    "y_test=data[95:]\n",
    "y_test_predict=final_model.predict(x_test)\n",
    "y_test_predict=sc.inverse_transform(y_test_predict)"
   ]
  },
  {
   "cell_type": "code",
   "execution_count": 16,
   "metadata": {
    "colab": {
     "base_uri": "https://localhost:8080/",
     "height": 578
    },
    "id": "fJSwRLlvurI4",
    "outputId": "5793fa4c-356e-4434-dce3-11f3752f8883"
   },
   "outputs": [
    {
     "name": "stderr",
     "output_type": "stream",
     "text": [
      "C:\\Users\\Admin\\AppData\\Local\\Temp\\ipykernel_11752\\1036736061.py:6: SettingWithCopyWarning: \n",
      "A value is trying to be set on a copy of a slice from a DataFrame.\n",
      "Try using .loc[row_indexer,col_indexer] = value instead\n",
      "\n",
      "See the caveats in the documentation: https://pandas.pydata.org/pandas-docs/stable/user_guide/indexing.html#returning-a-view-versus-a-copy\n",
      "  train_datal['prediction']=y_train_predict\n",
      "C:\\Users\\Admin\\AppData\\Local\\Temp\\ipykernel_11752\\1036736061.py:8: SettingWithCopyWarning: \n",
      "A value is trying to be set on a copy of a slice from a DataFrame.\n",
      "Try using .loc[row_indexer,col_indexer] = value instead\n",
      "\n",
      "See the caveats in the documentation: https://pandas.pydata.org/pandas-docs/stable/user_guide/indexing.html#returning-a-view-versus-a-copy\n",
      "  test_datal['prediction']=y_test_predict\n"
     ]
    },
    {
     "data": {
      "image/png": "[encoded data removed]",
      "text/plain": [
       "<Figure size 1728x576 with 1 Axes>"
      ]
     },
     "metadata": {
      "needs_background": "light"
     },
     "output_type": "display_data"
    }
   ],
   "source": [
    "train_datal=dfl[5:95]\n",
    "test_datal=dfl[95:]\n",
    "\n",
    "plt.figure(figsize=(24,8))\n",
    "plt.plot(dfl,label='actual price',color='orange')\n",
    "train_datal['prediction']=y_train_predict\n",
    "plt.plot(train_datal['prediction'],label='prediction price train',color='green')\n",
    "test_datal['prediction']=y_test_predict\n",
    "\n",
    "plt.plot(test_datal[\"prediction\"], label='prediction price test',color='blue')\n",
    "plt.title('compare actual price and prediction price')\n",
    "plt.xlabel('Time Frame')\n",
    "plt.ylabel('E95 Price (VND)')\n",
    "plt.legend()\n",
    "plt.show()"
   ]
  },
  {
   "cell_type": "code",
   "execution_count": 17,
   "metadata": {
    "colab": {
     "base_uri": "https://localhost:8080/"
    },
    "id": "MNkqqa9CuwOb",
    "outputId": "824d7bdd-8c79-497b-ef8f-ce517eeacebb"
   },
   "outputs": [
    {
     "name": "stdout",
     "output_type": "stream",
     "text": [
      "Độ phù hợp tập test:  -1.7583856968691727\n",
      "Sai số tuyệt đối trung bình tập test:  1557.3932291666667\n",
      "Phần trăm sai số tuyệt đối trung bình tập test:  0.06998442935841033\n"
     ]
    }
   ],
   "source": [
    "print('Độ phù hợp tập test: ',r2_score(y_test,y_test_predict))\n",
    "#mae\n",
    "print('Sai số tuyệt đối trung bình tập test: ', mean_absolute_error(y_test,y_test_predict))\n",
    "#mape\n",
    "print('Phần trăm sai số tuyệt đối trung bình tập test: ', mean_absolute_percentage_error(y_test,y_test_predict))"
   ]
  },
  {
   "cell_type": "code",
   "execution_count": null,
   "metadata": {},
   "outputs": [],
   "source": []
  }
 ],
 "metadata": {
  "colab": {
   "provenance": []
  },
  "kernelspec": {
   "display_name": "Python 3 (ipykernel)",
   "language": "python",
   "name": "python3"
  },
  "language_info": {
   "codemirror_mode": {
    "name": "ipython",
    "version": 3
   },
   "file_extension": ".py",
   "mimetype": "text/x-python",
   "name": "python",
   "nbconvert_exporter": "python",
   "pygments_lexer": "ipython3",
   "version": "3.9.12"
  }
 },
 "nbformat": 4,
 "nbformat_minor": 1
}
