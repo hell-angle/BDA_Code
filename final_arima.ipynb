{
 "cells": [
  {
   "cell_type": "code",
   "execution_count": 1,
   "metadata": {},
   "outputs": [],
   "source": [
    "from arch import arch_model\n",
    "import pandas as pd\n",
    "import numpy as np\n",
    "import warnings\n",
    "import matplotlib.pyplot as plt\n",
    "import statsmodels.graphics.tsaplots as sgt\n",
    "import statsmodels.tsa.stattools as sts\n",
    "from statsmodels.tsa.arima_model import ARIMA\n",
    "from scipy.stats.distributions import chi2 \n",
    "import statsmodels.api as sm\n",
    "from pmdarima import auto_arima\n",
    "from sklearn import metrics\n",
    "from statsmodels.tsa.seasonal import seasonal_decompose\n",
    "from statsmodels.tsa.stattools import adfuller\n",
    "from math import sqrt\n",
    "import seaborn as sns\n",
    "\n",
    "warnings.filterwarnings(\"ignore\")\n",
    "sns.set()"
   ]
  },
  {
   "cell_type": "code",
   "execution_count": 2,
   "metadata": {},
   "outputs": [
    {
     "name": "stdout",
     "output_type": "stream",
     "text": [
      "(107, 1)\n"
     ]
    },
    {
     "data": {
      "text/html": [
       "<div>\n",
       "<style scoped>\n",
       "    .dataframe tbody tr th:only-of-type {\n",
       "        vertical-align: middle;\n",
       "    }\n",
       "\n",
       "    .dataframe tbody tr th {\n",
       "        vertical-align: top;\n",
       "    }\n",
       "\n",
       "    .dataframe thead th {\n",
       "        text-align: right;\n",
       "    }\n",
       "</style>\n",
       "<table border=\"1\" class=\"dataframe\">\n",
       "  <thead>\n",
       "    <tr style=\"text-align: right;\">\n",
       "      <th></th>\n",
       "      <th>E95</th>\n",
       "    </tr>\n",
       "    <tr>\n",
       "      <th>year</th>\n",
       "      <th></th>\n",
       "    </tr>\n",
       "  </thead>\n",
       "  <tbody>\n",
       "    <tr>\n",
       "      <th>2022-11-11</th>\n",
       "      <td>23860</td>\n",
       "    </tr>\n",
       "    <tr>\n",
       "      <th>2022-11-21</th>\n",
       "      <td>23780</td>\n",
       "    </tr>\n",
       "    <tr>\n",
       "      <th>2022-12-01</th>\n",
       "      <td>22700</td>\n",
       "    </tr>\n",
       "    <tr>\n",
       "      <th>2022-12-12</th>\n",
       "      <td>21200</td>\n",
       "    </tr>\n",
       "    <tr>\n",
       "      <th>2022-12-21</th>\n",
       "      <td>20700</td>\n",
       "    </tr>\n",
       "  </tbody>\n",
       "</table>\n",
       "</div>"
      ],
      "text/plain": [
       "              E95\n",
       "year             \n",
       "2022-11-11  23860\n",
       "2022-11-21  23780\n",
       "2022-12-01  22700\n",
       "2022-12-12  21200\n",
       "2022-12-21  20700"
      ]
     },
     "execution_count": 2,
     "metadata": {},
     "output_type": "execute_result"
    }
   ],
   "source": [
    "df = pd.read_csv(\"E95_price_1.csv\",\n",
    "index_col=\"year\",\n",
    "parse_dates=True)\n",
    "\n",
    "print(df.shape)\n",
    "df.tail()"
   ]
  },
  {
   "cell_type": "code",
   "execution_count": 3,
   "metadata": {},
   "outputs": [
    {
     "data": {
      "text/plain": [
       "<AxesSubplot:xlabel='year'>"
      ]
     },
     "execution_count": 3,
     "metadata": {},
     "output_type": "execute_result"
    },
    {
     "data": {
      "image/png": "[encoded data removed]",
      "text/plain": [
       "<Figure size 864x360 with 1 Axes>"
      ]
     },
     "metadata": {},
     "output_type": "display_data"
    }
   ],
   "source": [
    "df[\"E95\"].plot(figsize=(12,5))"
   ]
  },
  {
   "cell_type": "code",
   "execution_count": 4,
   "metadata": {},
   "outputs": [],
   "source": [
    "def ad_test(dataset):\n",
    "    dftest = adfuller(dataset, autolag = 'AIC')\n",
    "    print(\"1. ADF :\" , dftest[0])\n",
    "    print(\"2. P-value : \", dftest[1])\n",
    "    print(\"3. Num of lags : \", dftest[2])\n",
    "    print(\"4. number of observation for ADF Regression and critical value Calculation :\" , dftest[3])\n",
    "    for key, val in dftest[4].items():\n",
    "        print(\"\\t\", key ,\" \", val)"
   ]
  },
  {
   "cell_type": "code",
   "execution_count": 5,
   "metadata": {},
   "outputs": [
    {
     "name": "stdout",
     "output_type": "stream",
     "text": [
      "1. ADF : -1.8887961052014675\n",
      "2. P-value :  0.3373499935596974\n",
      "3. Num of lags :  1\n",
      "4. number of observation for ADF Regression and critical value Calculation : 105\n",
      "\t 1%   -3.4942202045135513\n",
      "\t 5%   -2.889485291005291\n",
      "\t 10%   -2.5816762131519275\n"
     ]
    }
   ],
   "source": [
    "ad_test(df[\"E95\"])"
   ]
  },
  {
   "cell_type": "code",
   "execution_count": 6,
   "metadata": {},
   "outputs": [],
   "source": [
    "from pmdarima import auto_arima\n",
    "import warnings\n",
    "warnings.filterwarnings(\"ignore\")"
   ]
  },
  {
   "cell_type": "code",
   "execution_count": 7,
   "metadata": {},
   "outputs": [
    {
     "name": "stdout",
     "output_type": "stream",
     "text": [
      "Performing stepwise search to minimize aic\n",
      " ARIMA(2,1,2)(0,0,0)[0] intercept   : AIC=1755.169, Time=0.14 sec\n",
      " ARIMA(0,1,0)(0,0,0)[0] intercept   : AIC=1763.202, Time=0.01 sec\n",
      " ARIMA(1,1,0)(0,0,0)[0] intercept   : AIC=1749.781, Time=0.03 sec\n",
      " ARIMA(0,1,1)(0,0,0)[0] intercept   : AIC=1750.670, Time=0.04 sec\n",
      " ARIMA(0,1,0)(0,0,0)[0]             : AIC=1761.291, Time=0.02 sec\n",
      " ARIMA(2,1,0)(0,0,0)[0] intercept   : AIC=1751.608, Time=0.03 sec\n",
      " ARIMA(1,1,1)(0,0,0)[0] intercept   : AIC=1751.611, Time=0.04 sec\n",
      " ARIMA(2,1,1)(0,0,0)[0] intercept   : AIC=1753.506, Time=0.09 sec\n",
      " ARIMA(1,1,0)(0,0,0)[0]             : AIC=1747.722, Time=0.03 sec\n",
      " ARIMA(2,1,0)(0,0,0)[0]             : AIC=1749.547, Time=0.03 sec\n",
      " ARIMA(1,1,1)(0,0,0)[0]             : AIC=1749.560, Time=0.04 sec\n",
      " ARIMA(0,1,1)(0,0,0)[0]             : AIC=1748.643, Time=0.03 sec\n",
      " ARIMA(2,1,1)(0,0,0)[0]             : AIC=1751.363, Time=0.08 sec\n",
      "\n",
      "Best model:  ARIMA(1,1,0)(0,0,0)[0]          \n",
      "Total fit time: 0.620 seconds\n"
     ]
    },
    {
     "data": {
      "text/html": [
       "<table class=\"simpletable\">\n",
       "<caption>SARIMAX Results</caption>\n",
       "<tr>\n",
       "  <th>Dep. Variable:</th>           <td>y</td>        <th>  No. Observations:  </th>    <td>107</td>  \n",
       "</tr>\n",
       "<tr>\n",
       "  <th>Model:</th>           <td>SARIMAX(1, 1, 0)</td> <th>  Log Likelihood     </th> <td>-871.861</td>\n",
       "</tr>\n",
       "<tr>\n",
       "  <th>Date:</th>            <td>Wed, 04 Jan 2023</td> <th>  AIC                </th> <td>1747.722</td>\n",
       "</tr>\n",
       "<tr>\n",
       "  <th>Time:</th>                <td>18:05:04</td>     <th>  BIC                </th> <td>1753.048</td>\n",
       "</tr>\n",
       "<tr>\n",
       "  <th>Sample:</th>                  <td>0</td>        <th>  HQIC               </th> <td>1749.881</td>\n",
       "</tr>\n",
       "<tr>\n",
       "  <th></th>                      <td> - 107</td>      <th>                     </th>     <td> </td>   \n",
       "</tr>\n",
       "<tr>\n",
       "  <th>Covariance Type:</th>        <td>opg</td>       <th>                     </th>     <td> </td>   \n",
       "</tr>\n",
       "</table>\n",
       "<table class=\"simpletable\">\n",
       "<tr>\n",
       "     <td></td>       <th>coef</th>     <th>std err</th>      <th>z</th>      <th>P>|z|</th>  <th>[0.025</th>    <th>0.975]</th>  \n",
       "</tr>\n",
       "<tr>\n",
       "  <th>ar.L1</th>  <td>    0.2937</td> <td>    0.033</td> <td>    8.968</td> <td> 0.000</td> <td>    0.229</td> <td>    0.358</td>\n",
       "</tr>\n",
       "<tr>\n",
       "  <th>sigma2</th> <td> 7.237e+05</td> <td> 5.95e+04</td> <td>   12.167</td> <td> 0.000</td> <td> 6.07e+05</td> <td>  8.4e+05</td>\n",
       "</tr>\n",
       "</table>\n",
       "<table class=\"simpletable\">\n",
       "<tr>\n",
       "  <th>Ljung-Box (L1) (Q):</th>     <td>5.51</td> <th>  Jarque-Bera (JB):  </th> <td>83.23</td>\n",
       "</tr>\n",
       "<tr>\n",
       "  <th>Prob(Q):</th>                <td>0.02</td> <th>  Prob(JB):          </th> <td>0.00</td> \n",
       "</tr>\n",
       "<tr>\n",
       "  <th>Heteroskedasticity (H):</th> <td>1.18</td> <th>  Skew:              </th> <td>-1.18</td>\n",
       "</tr>\n",
       "<tr>\n",
       "  <th>Prob(H) (two-sided):</th>    <td>0.63</td> <th>  Kurtosis:          </th> <td>6.65</td> \n",
       "</tr>\n",
       "</table><br/><br/>Warnings:<br/>[1] Covariance matrix calculated using the outer product of gradients (complex-step)."
      ],
      "text/plain": [
       "<class 'statsmodels.iolib.summary.Summary'>\n",
       "\"\"\"\n",
       "                               SARIMAX Results                                \n",
       "==============================================================================\n",
       "Dep. Variable:                      y   No. Observations:                  107\n",
       "Model:               SARIMAX(1, 1, 0)   Log Likelihood                -871.861\n",
       "Date:                Wed, 04 Jan 2023   AIC                           1747.722\n",
       "Time:                        18:05:04   BIC                           1753.048\n",
       "Sample:                             0   HQIC                          1749.881\n",
       "                                - 107                                         \n",
       "Covariance Type:                  opg                                         \n",
       "==============================================================================\n",
       "                 coef    std err          z      P>|z|      [0.025      0.975]\n",
       "------------------------------------------------------------------------------\n",
       "ar.L1          0.2937      0.033      8.968      0.000       0.229       0.358\n",
       "sigma2      7.237e+05   5.95e+04     12.167      0.000    6.07e+05     8.4e+05\n",
       "===================================================================================\n",
       "Ljung-Box (L1) (Q):                   5.51   Jarque-Bera (JB):                83.23\n",
       "Prob(Q):                              0.02   Prob(JB):                         0.00\n",
       "Heteroskedasticity (H):               1.18   Skew:                            -1.18\n",
       "Prob(H) (two-sided):                  0.63   Kurtosis:                         6.65\n",
       "===================================================================================\n",
       "\n",
       "Warnings:\n",
       "[1] Covariance matrix calculated using the outer product of gradients (complex-step).\n",
       "\"\"\""
      ]
     },
     "execution_count": 7,
     "metadata": {},
     "output_type": "execute_result"
    }
   ],
   "source": [
    "stepwise_fit = auto_arima(df[\"E95\"],trace = True, suppress_warnings= True)\n",
    "stepwise_fit.summary()"
   ]
  },
  {
   "cell_type": "code",
   "execution_count": 8,
   "metadata": {},
   "outputs": [],
   "source": [
    "def split_data(data, test_split):\n",
    "    l = len(data)\n",
    "    t_idx = round(l*(1-test_split))\n",
    "    train, test = data[ :t_idx], data[t_idx : ]\n",
    "    print(f'train: {len(train)} , test: {len(test)}')\n",
    "    return train, test"
   ]
  },
  {
   "cell_type": "code",
   "execution_count": 9,
   "metadata": {},
   "outputs": [
    {
     "name": "stdout",
     "output_type": "stream",
     "text": [
      "train: 86 , test: 21\n"
     ]
    }
   ],
   "source": [
    "test_split = 0.2\n",
    "train , test = split_data(df, test_split)"
   ]
  },
  {
   "cell_type": "code",
   "execution_count": 10,
   "metadata": {},
   "outputs": [
    {
     "data": {
      "text/html": [
       "<table class=\"simpletable\">\n",
       "<caption>SARIMAX Results</caption>\n",
       "<tr>\n",
       "  <th>Dep. Variable:</th>          <td>E95</td>       <th>  No. Observations:  </th>    <td>86</td>   \n",
       "</tr>\n",
       "<tr>\n",
       "  <th>Model:</th>            <td>ARIMA(1, 1, 0)</td>  <th>  Log Likelihood     </th> <td>-692.879</td>\n",
       "</tr>\n",
       "<tr>\n",
       "  <th>Date:</th>            <td>Wed, 04 Jan 2023</td> <th>  AIC                </th> <td>1389.757</td>\n",
       "</tr>\n",
       "<tr>\n",
       "  <th>Time:</th>                <td>18:05:04</td>     <th>  BIC                </th> <td>1394.643</td>\n",
       "</tr>\n",
       "<tr>\n",
       "  <th>Sample:</th>                  <td>0</td>        <th>  HQIC               </th> <td>1391.722</td>\n",
       "</tr>\n",
       "<tr>\n",
       "  <th></th>                       <td> - 86</td>      <th>                     </th>     <td> </td>   \n",
       "</tr>\n",
       "<tr>\n",
       "  <th>Covariance Type:</th>        <td>opg</td>       <th>                     </th>     <td> </td>   \n",
       "</tr>\n",
       "</table>\n",
       "<table class=\"simpletable\">\n",
       "<tr>\n",
       "     <td></td>       <th>coef</th>     <th>std err</th>      <th>z</th>      <th>P>|z|</th>  <th>[0.025</th>    <th>0.975]</th>  \n",
       "</tr>\n",
       "<tr>\n",
       "  <th>ar.L1</th>  <td>    0.2397</td> <td>    0.042</td> <td>    5.737</td> <td> 0.000</td> <td>    0.158</td> <td>    0.322</td>\n",
       "</tr>\n",
       "<tr>\n",
       "  <th>sigma2</th> <td> 6.327e+05</td> <td> 5.53e+04</td> <td>   11.445</td> <td> 0.000</td> <td> 5.24e+05</td> <td> 7.41e+05</td>\n",
       "</tr>\n",
       "</table>\n",
       "<table class=\"simpletable\">\n",
       "<tr>\n",
       "  <th>Ljung-Box (L1) (Q):</th>     <td>3.88</td> <th>  Jarque-Bera (JB):  </th> <td>116.09</td>\n",
       "</tr>\n",
       "<tr>\n",
       "  <th>Prob(Q):</th>                <td>0.05</td> <th>  Prob(JB):          </th>  <td>0.00</td> \n",
       "</tr>\n",
       "<tr>\n",
       "  <th>Heteroskedasticity (H):</th> <td>1.73</td> <th>  Skew:              </th>  <td>-1.08</td>\n",
       "</tr>\n",
       "<tr>\n",
       "  <th>Prob(H) (two-sided):</th>    <td>0.15</td> <th>  Kurtosis:          </th>  <td>8.30</td> \n",
       "</tr>\n",
       "</table><br/><br/>Warnings:<br/>[1] Covariance matrix calculated using the outer product of gradients (complex-step)."
      ],
      "text/plain": [
       "<class 'statsmodels.iolib.summary.Summary'>\n",
       "\"\"\"\n",
       "                               SARIMAX Results                                \n",
       "==============================================================================\n",
       "Dep. Variable:                    E95   No. Observations:                   86\n",
       "Model:                 ARIMA(1, 1, 0)   Log Likelihood                -692.879\n",
       "Date:                Wed, 04 Jan 2023   AIC                           1389.757\n",
       "Time:                        18:05:04   BIC                           1394.643\n",
       "Sample:                             0   HQIC                          1391.722\n",
       "                                 - 86                                         \n",
       "Covariance Type:                  opg                                         \n",
       "==============================================================================\n",
       "                 coef    std err          z      P>|z|      [0.025      0.975]\n",
       "------------------------------------------------------------------------------\n",
       "ar.L1          0.2397      0.042      5.737      0.000       0.158       0.322\n",
       "sigma2      6.327e+05   5.53e+04     11.445      0.000    5.24e+05    7.41e+05\n",
       "===================================================================================\n",
       "Ljung-Box (L1) (Q):                   3.88   Jarque-Bera (JB):               116.09\n",
       "Prob(Q):                              0.05   Prob(JB):                         0.00\n",
       "Heteroskedasticity (H):               1.73   Skew:                            -1.08\n",
       "Prob(H) (two-sided):                  0.15   Kurtosis:                         8.30\n",
       "===================================================================================\n",
       "\n",
       "Warnings:\n",
       "[1] Covariance matrix calculated using the outer product of gradients (complex-step).\n",
       "\"\"\""
      ]
     },
     "execution_count": 10,
     "metadata": {},
     "output_type": "execute_result"
    }
   ],
   "source": [
    "model = sm.tsa.arima.ARIMA(train[\"E95\"],order = (1,1,0))\n",
    "model = model.fit()\n",
    "model.summary()"
   ]
  },
  {
   "cell_type": "code",
   "execution_count": 11,
   "metadata": {},
   "outputs": [
    {
     "name": "stdout",
     "output_type": "stream",
     "text": [
      "86     30810.604943\n",
      "87     30849.103373\n",
      "88     30858.331788\n",
      "89     30860.543921\n",
      "90     30861.074188\n",
      "91     30861.201298\n",
      "92     30861.231768\n",
      "93     30861.239072\n",
      "94     30861.240822\n",
      "95     30861.241242\n",
      "96     30861.241343\n",
      "97     30861.241367\n",
      "98     30861.241373\n",
      "99     30861.241374\n",
      "100    30861.241374\n",
      "101    30861.241374\n",
      "102    30861.241374\n",
      "103    30861.241374\n",
      "104    30861.241374\n",
      "105    30861.241374\n",
      "106    30861.241374\n",
      "Name: predicted_mean, dtype: float64\n"
     ]
    }
   ],
   "source": [
    "start = len(train)\n",
    "end = len(train) + len(test) -1\n",
    "pred = model.predict(start = start, end = end, typ = 'levels')\n",
    "\n",
    "print(pred)\n",
    "pred.index = df.index[start: end +1]"
   ]
  },
  {
   "cell_type": "code",
   "execution_count": 12,
   "metadata": {},
   "outputs": [
    {
     "data": {
      "text/plain": [
       "<AxesSubplot:xlabel='year'>"
      ]
     },
     "execution_count": 12,
     "metadata": {},
     "output_type": "execute_result"
    },
    {
     "data": {
      "image/png": "[encoded data removed]",
      "text/plain": [
       "<Figure size 432x288 with 1 Axes>"
      ]
     },
     "metadata": {},
     "output_type": "display_data"
    }
   ],
   "source": [
    "pred.plot(legend = True)\n",
    "test[\"E95\"].plot(legend= True)"
   ]
  },
  {
   "cell_type": "code",
   "execution_count": 13,
   "metadata": {},
   "outputs": [
    {
     "data": {
      "text/plain": [
       "25286.666666666668"
      ]
     },
     "execution_count": 13,
     "metadata": {},
     "output_type": "execute_result"
    }
   ],
   "source": [
    "test[\"E95\"].mean()"
   ]
  },
  {
   "cell_type": "code",
   "execution_count": 14,
   "metadata": {},
   "outputs": [
    {
     "name": "stdout",
     "output_type": "stream",
     "text": [
      "6826.58233857721\n",
      "46602226.42537429\n"
     ]
    }
   ],
   "source": [
    "from sklearn.metrics import mean_squared_error\n",
    "from math import sqrt\n",
    "rmse = sqrt(mean_squared_error(pred,test[\"E95\"]))\n",
    "mse =  mean_squared_error(pred, test[\"E95\"])\n",
    "print(rmse)\n",
    "print(mse)"
   ]
  },
  {
   "cell_type": "code",
   "execution_count": 15,
   "metadata": {},
   "outputs": [
    {
     "data": {
      "text/html": [
       "<div>\n",
       "<style scoped>\n",
       "    .dataframe tbody tr th:only-of-type {\n",
       "        vertical-align: middle;\n",
       "    }\n",
       "\n",
       "    .dataframe tbody tr th {\n",
       "        vertical-align: top;\n",
       "    }\n",
       "\n",
       "    .dataframe thead th {\n",
       "        text-align: right;\n",
       "    }\n",
       "</style>\n",
       "<table border=\"1\" class=\"dataframe\">\n",
       "  <thead>\n",
       "    <tr style=\"text-align: right;\">\n",
       "      <th></th>\n",
       "      <th>E95</th>\n",
       "    </tr>\n",
       "    <tr>\n",
       "      <th>year</th>\n",
       "      <th></th>\n",
       "    </tr>\n",
       "  </thead>\n",
       "  <tbody>\n",
       "    <tr>\n",
       "      <th>2022-11-11</th>\n",
       "      <td>23860</td>\n",
       "    </tr>\n",
       "    <tr>\n",
       "      <th>2022-11-21</th>\n",
       "      <td>23780</td>\n",
       "    </tr>\n",
       "    <tr>\n",
       "      <th>2022-12-01</th>\n",
       "      <td>22700</td>\n",
       "    </tr>\n",
       "    <tr>\n",
       "      <th>2022-12-12</th>\n",
       "      <td>21200</td>\n",
       "    </tr>\n",
       "    <tr>\n",
       "      <th>2022-12-21</th>\n",
       "      <td>20700</td>\n",
       "    </tr>\n",
       "  </tbody>\n",
       "</table>\n",
       "</div>"
      ],
      "text/plain": [
       "              E95\n",
       "year             \n",
       "2022-11-11  23860\n",
       "2022-11-21  23780\n",
       "2022-12-01  22700\n",
       "2022-12-12  21200\n",
       "2022-12-21  20700"
      ]
     },
     "execution_count": 15,
     "metadata": {},
     "output_type": "execute_result"
    }
   ],
   "source": [
    "model2 = sm.tsa.arima.ARIMA(df[\"E95\"], order = (1,1,0))\n",
    "model2 = model2.fit()\n",
    "df.tail()"
   ]
  },
  {
   "cell_type": "code",
   "execution_count": 16,
   "metadata": {},
   "outputs": [],
   "source": [
    "index_future_dates = pd.date_range(start= \"05/23/2022\", end = \"01/28/2023\")\n",
    "pred = model2.predict(start = len(df), end = len(df)+ 250, typ = \" levels\").rename(\"Arima prediction\")\n",
    "pred.index = index_future_dates\n"
   ]
  },
  {
   "cell_type": "code",
   "execution_count": 17,
   "metadata": {},
   "outputs": [
    {
     "name": "stdout",
     "output_type": "stream",
     "text": [
      "2022-12-22    20492.12605\n",
      "2022-12-23    20492.12605\n",
      "2022-12-24    20492.12605\n",
      "2022-12-25    20492.12605\n",
      "2022-12-26    20492.12605\n",
      "2022-12-27    20492.12605\n",
      "2022-12-28    20492.12605\n",
      "2022-12-29    20492.12605\n",
      "2022-12-30    20492.12605\n",
      "2022-12-31    20492.12605\n",
      "2023-01-01    20492.12605\n",
      "2023-01-02    20492.12605\n",
      "2023-01-03    20492.12605\n",
      "2023-01-04    20492.12605\n",
      "2023-01-05    20492.12605\n",
      "2023-01-06    20492.12605\n",
      "2023-01-07    20492.12605\n",
      "2023-01-08    20492.12605\n",
      "2023-01-09    20492.12605\n",
      "2023-01-10    20492.12605\n",
      "2023-01-11    20492.12605\n",
      "2023-01-12    20492.12605\n",
      "2023-01-13    20492.12605\n",
      "2023-01-14    20492.12605\n",
      "2023-01-15    20492.12605\n",
      "2023-01-16    20492.12605\n",
      "2023-01-17    20492.12605\n",
      "2023-01-18    20492.12605\n",
      "2023-01-19    20492.12605\n",
      "2023-01-20    20492.12605\n",
      "2023-01-21    20492.12605\n",
      "2023-01-22    20492.12605\n",
      "2023-01-23    20492.12605\n",
      "2023-01-24    20492.12605\n",
      "2023-01-25    20492.12605\n",
      "2023-01-26    20492.12605\n",
      "2023-01-27    20492.12605\n",
      "2023-01-28    20492.12605\n",
      "Freq: D, Name: Arima prediction, dtype: float64\n"
     ]
    }
   ],
   "source": [
    "print(pred.tail(38))"
   ]
  },
  {
   "cell_type": "code",
   "execution_count": 18,
   "metadata": {},
   "outputs": [
    {
     "data": {
      "text/plain": [
       "<AxesSubplot:>"
      ]
     },
     "execution_count": 18,
     "metadata": {},
     "output_type": "execute_result"
    },
    {
     "data": {
      "image/png": "[encoded data removed]",
      "text/plain": [
       "<Figure size 864x360 with 1 Axes>"
      ]
     },
     "metadata": {},
     "output_type": "display_data"
    }
   ],
   "source": [
    "pred.plot(figsize = (12,5), legend = True)"
   ]
  },
  {
   "cell_type": "code",
   "execution_count": 19,
   "metadata": {},
   "outputs": [
    {
     "data": {
      "image/png": "[encoded data removed]",
      "text/plain": [
       "<Figure size 1440x360 with 1 Axes>"
      ]
     },
     "metadata": {},
     "output_type": "display_data"
    }
   ],
   "source": [
    "plt.rcParams[\"figure.figsize\"] = [20,5]\n",
    "#pred.plot()\n",
    "df[\"E95\"].plot()\n",
    "plt.plot(train[\"E95\"], label = \"train\")\n",
    "plt.plot(test[\"E95\"], label = 'test')\n",
    "plt.plot(pred, label = \"prediction\",color = \"black\")\n",
    "plt.legend(loc = 'best')\n",
    "plt.show()"
   ]
  }
 ],
 "metadata": {
  "kernelspec": {
   "display_name": "Python 3 (ipykernel)",
   "language": "python",
   "name": "python3"
  },
  "language_info": {
   "codemirror_mode": {
    "name": "ipython",
    "version": 3
   },
   "file_extension": ".py",
   "mimetype": "text/x-python",
   "name": "python",
   "nbconvert_exporter": "python",
   "pygments_lexer": "ipython3",
   "version": "3.9.12"
  },
  "vscode": {
   "interpreter": {
    "hash": "a2ab3825ac7005fb7b26f112e9c99ae62f464c629e30b0d534c3b931b6cbc3ff"
   }
  }
 },
 "nbformat": 4,
 "nbformat_minor": 2
}
